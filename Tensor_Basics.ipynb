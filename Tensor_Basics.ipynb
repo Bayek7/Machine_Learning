{
 "cells": [
  {
   "cell_type": "markdown",
   "metadata": {},
   "source": [
    "#### Vorstellung Tensors"
   ]
  },
  {
   "cell_type": "code",
   "execution_count": 4,
   "metadata": {},
   "outputs": [
    {
     "name": "stdout",
     "output_type": "stream",
     "text": [
      "Type of data in tensor = torch.float32\n",
      "Type of tensor = torch.FloatTensor\n"
     ]
    }
   ],
   "source": [
    "import torch\n",
    "import numpy as np\n",
    "\n",
    "# list data to tensor\n",
    "arr = [1,2,3,4]\n",
    "# arr_tensor = torch.FloatTensor(arr)\n",
    "arr_tensor = torch.tensor(arr, dtype=torch.float32, requires_grad=True)\n",
    "print(f\"Type of data in tensor = {arr_tensor.dtype}\")\n",
    "print(f\"Type of tensor = {arr_tensor.type()}\")"
   ]
  },
  {
   "cell_type": "markdown",
   "metadata": {},
   "source": [
    "Numpy & Tensor"
   ]
  },
  {
   "cell_type": "code",
   "execution_count": 5,
   "metadata": {},
   "outputs": [],
   "source": [
    "# NumPy array to tensor\n",
    "a_arr = np.array([1,2,3,5])\n",
    "arr_tensor = torch.from_numpy(a_arr)\n",
    "\n",
    "# tensor to numpy array\n",
    "arr_np = arr_tensor.numpy()"
   ]
  },
  {
   "cell_type": "markdown",
   "metadata": {},
   "source": [
    "##### Shape of Tensor"
   ]
  },
  {
   "cell_type": "code",
   "execution_count": 6,
   "metadata": {},
   "outputs": [
    {
     "name": "stdout",
     "output_type": "stream",
     "text": [
      "torch.Size([4, 1])\n",
      "torch.Size([4, 1])\n"
     ]
    }
   ],
   "source": [
    "a = arr_tensor.view(4,1)\n",
    "b = arr_tensor.view(-1,1)\n",
    "print(a.shape)\n",
    "print(b.shape)"
   ]
  },
  {
   "cell_type": "markdown",
   "metadata": {},
   "source": [
    "Dot Product of Tensor"
   ]
  },
  {
   "cell_type": "code",
   "execution_count": 7,
   "metadata": {},
   "outputs": [
    {
     "data": {
      "text/plain": [
       "tensor(11)"
      ]
     },
     "execution_count": 7,
     "metadata": {},
     "output_type": "execute_result"
    }
   ],
   "source": [
    "a = torch.tensor([1,2])\n",
    "b = torch.tensor([3,4])\n",
    "dot_product = torch.dot(a,b)\n",
    "dot_product"
   ]
  },
  {
   "cell_type": "markdown",
   "metadata": {},
   "source": [
    "Matrix Multiplication"
   ]
  },
  {
   "cell_type": "code",
   "execution_count": 8,
   "metadata": {},
   "outputs": [
    {
     "name": "stdout",
     "output_type": "stream",
     "text": [
      "a: tensor([[1, 0, 1],\n",
      "        [0, 1, 0]])\n",
      "b: tensor([[1, 0],\n",
      "        [0, 1],\n",
      "        [1, 1]])\n",
      "c: tensor([[2, 1],\n",
      "        [0, 1]])\n"
     ]
    }
   ],
   "source": [
    "a = torch.tensor([[1,0,1], [0,1,0]])\n",
    "print(f\"a: {a}\")\n",
    "b = torch.tensor([[1,0], [0,1], [1,1]])\n",
    "print(f\"b: {b}\")\n",
    "c = torch.mm(a,b)\n",
    "print(f\"c: {c}\")"
   ]
  },
  {
   "cell_type": "markdown",
   "metadata": {},
   "source": [
    "#### Gradient Computation"
   ]
  },
  {
   "cell_type": "markdown",
   "metadata": {},
   "source": [
    "Compute Derivative  \n",
    "$$y=x^2$$\n",
    "$$\\frac{dy}{dx}=2*x$$"
   ]
  },
  {
   "cell_type": "code",
   "execution_count": 9,
   "metadata": {},
   "outputs": [
    {
     "name": "stdout",
     "output_type": "stream",
     "text": [
      "dy/dx = 4.0\n"
     ]
    }
   ],
   "source": [
    "x = torch.tensor(2, dtype=torch.float32, requires_grad=True)\n",
    "y = x**2     # y = x^2\n",
    "\n",
    "# Call backward function in pytorch to calculate dy/dx at given x value (grad can be implicitly created only for scalar outputs\n",
    "y.backward() \n",
    "dy_dx = x.grad  \n",
    "\n",
    "print(f\"dy/dx = {dy_dx}\")"
   ]
  },
  {
   "cell_type": "markdown",
   "metadata": {},
   "source": [
    "`tensor.item()` to get the scalar value in a given tensor"
   ]
  },
  {
   "cell_type": "code",
   "execution_count": 10,
   "metadata": {},
   "outputs": [
    {
     "data": {
      "text/plain": [
       "2.0"
      ]
     },
     "execution_count": 10,
     "metadata": {},
     "output_type": "execute_result"
    }
   ],
   "source": [
    "x = torch.tensor(2, dtype=torch.float32, requires_grad=True)\n",
    "x.item()"
   ]
  },
  {
   "cell_type": "markdown",
   "metadata": {},
   "source": [
    "Partial Derivative\n",
    "$$f(u, v) = u*v + v^2$$\n",
    "$$\\frac{\\partial{f}}{\\partial{u}} = v$$\n",
    "$$\\frac{\\partial{f}}{\\partial{v}} = u+2*v$$"
   ]
  },
  {
   "cell_type": "code",
   "execution_count": 11,
   "metadata": {},
   "outputs": [
    {
     "name": "stdout",
     "output_type": "stream",
     "text": [
      "del_f/del_u = tensor([2.], dtype=torch.float64)\n",
      "del_f/del_v = tensor([5.], dtype=torch.float64)\n"
     ]
    }
   ],
   "source": [
    "u = torch.tensor([1], dtype=float, requires_grad=True)\n",
    "v = torch.tensor([2], dtype=float, requires_grad=True)\n",
    "f = u*v+v**2\n",
    "f.backward()\n",
    "print(f\"del_f/del_u = {u.grad}\") # Calculate partial derivative df/du\n",
    "print(f\"del_f/del_v = {v.grad}\") # Calculate partial derivative df/du"
   ]
  },
  {
   "cell_type": "code",
   "execution_count": 12,
   "metadata": {},
   "outputs": [
    {
     "name": "stdout",
     "output_type": "stream",
     "text": [
      "weights = tensor([1., 1., 1., 1.], requires_grad=True)\n",
      "weights.grad = None\n",
      "tensor(12., grad_fn=<SumBackward0>)\n",
      "----------------------------------------\n",
      "weights = tensor([1., 1., 1., 1.], requires_grad=True)\n",
      "weights.grad = tensor([6., 6., 6., 6.])\n",
      "tensor(12., grad_fn=<SumBackward0>)\n",
      "----------------------------------------\n"
     ]
    }
   ],
   "source": [
    "weights = torch.ones(4, requires_grad=True)\n",
    "\n",
    "for epoch in range(2): \n",
    "    print(f\"weights = {weights}\")\n",
    "    print(f\"weights.grad = {weights.grad}\")\n",
    "    model_output = ((weights**2)*3).sum()\n",
    "    model_output.backward()     # gradient is computed only after encountering backward() command\n",
    "    # weights.grad.zero_()      # grad.zero_() flushes the gradient values. If not done, the next operation will add the values to the current values\n",
    "\n",
    "    print(model_output) \n",
    "    print(\"----------------------------------------\")"
   ]
  },
  {
   "cell_type": "markdown",
   "metadata": {},
   "source": [
    "#### Threshold Function vs Sigmoid Function\n",
    "Threshold\n",
    "$$f(x)=0,      if x<0$$\n",
    "$$f(x)=1,      if x>=0$$\n",
    "Sigmoid\n",
    "$$\\sigma(x) = \\frac{1}{(1+e^{-x})}$$"
   ]
  },
  {
   "cell_type": "code",
   "execution_count": 14,
   "metadata": {},
   "outputs": [
    {
     "name": "stdout",
     "output_type": "stream",
     "text": [
      "[15, 25, 35, 45, 55]\n"
     ]
    }
   ],
   "source": [
    "import concurrent.futures\n",
    "\n",
    "def process_time_value(time_value, additional_arg1, additional_arg2):\n",
    "    # Perform calculations using time_value, additional_arg1, and additional_arg2\n",
    "    result = time_value * additional_arg1 + additional_arg2\n",
    "    return result\n",
    "\n",
    "if __name__ == \"__main__\":\n",
    "    time_tuple = (1, 2, 3, 4, 5)\n",
    "    additional_arg1 = 10\n",
    "    additional_arg2 = 5\n",
    "    results = [None] * len(time_tuple)\n",
    "\n",
    "    with concurrent.futures.ThreadPoolExecutor() as executor:\n",
    "        future_to_index = {executor.submit(process_time_value, time_value, additional_arg1, additional_arg2): index for index, time_value in enumerate(time_tuple)}\n",
    "        for future in concurrent.futures.as_completed(future_to_index):\n",
    "            index = future_to_index[future]\n",
    "            try:\n",
    "                results[index] = future.result()\n",
    "            except Exception as exc:\n",
    "                print(f\"Error processing time value {time_tuple[index]}: {exc}\")\n",
    "\n",
    "    print(results)"
   ]
  }
 ],
 "metadata": {
  "kernelspec": {
   "display_name": "Python 3",
   "language": "python",
   "name": "python3"
  },
  "language_info": {
   "codemirror_mode": {
    "name": "ipython",
    "version": 3
   },
   "file_extension": ".py",
   "mimetype": "text/x-python",
   "name": "python",
   "nbconvert_exporter": "python",
   "pygments_lexer": "ipython3",
   "version": "3.12.2"
  }
 },
 "nbformat": 4,
 "nbformat_minor": 2
}
